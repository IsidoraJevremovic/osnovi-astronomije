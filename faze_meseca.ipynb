{
  "nbformat": 4,
  "nbformat_minor": 0,
  "metadata": {
    "colab": {
      "provenance": [],
      "authorship_tag": "ABX9TyN/axK+LUX07JsK+Dkk2hKz",
      "include_colab_link": true
    },
    "kernelspec": {
      "name": "python3",
      "display_name": "Python 3"
    },
    "language_info": {
      "name": "python"
    }
  },
  "cells": [
    {
      "cell_type": "markdown",
      "metadata": {
        "id": "view-in-github",
        "colab_type": "text"
      },
      "source": [
        "<a href=\"https://colab.research.google.com/github/IsidoraJevremovic/osnovi-astronomije/blob/main/faze_meseca.ipynb\" target=\"_parent\"><img src=\"https://colab.research.google.com/assets/colab-badge.svg\" alt=\"Open In Colab\"/></a>"
      ]
    },
    {
      "cell_type": "code",
      "execution_count": 2,
      "metadata": {
        "colab": {
          "base_uri": "https://localhost:8080/"
        },
        "id": "bIraRwFDVYOb",
        "outputId": "024eda97-1b77-4b1e-e3b8-63fd20f6e83a"
      },
      "outputs": [
        {
          "output_type": "stream",
          "name": "stdout",
          "text": [
            "Collecting ephem\n",
            "  Downloading ephem-4.1.5-cp310-cp310-manylinux_2_17_x86_64.manylinux2014_x86_64.whl (1.8 MB)\n",
            "\u001b[2K     \u001b[90m━━━━━━━━━━━━━━━━━━━━━━━━━━━━━━━━━━━━━━━━\u001b[0m \u001b[32m1.8/1.8 MB\u001b[0m \u001b[31m15.0 MB/s\u001b[0m eta \u001b[36m0:00:00\u001b[0m\n",
            "\u001b[?25hInstalling collected packages: ephem\n",
            "Successfully installed ephem-4.1.5\n"
          ]
        }
      ],
      "source": [
        "pip install ephem"
      ]
    },
    {
      "cell_type": "code",
      "source": [
        "from ephem import *\n",
        "from pandas import *\n",
        "import matplotlib.pyplot as plt\n",
        "\n",
        "# Example usage\n",
        "date = input(\"Unesite datum u formi YYYY-MM-DD\")  # Input date in YYYY-MM-DD format\n",
        "\n",
        "# Create an observer\n",
        "posmatrac = Observer()\n",
        "posmatrac.lat = '44.7866'\n",
        "posmatrac.lon = '20.4489'\n",
        "posmatrac.date = date\n",
        "\n",
        "# Calculate the moon phase\n",
        "moon = Moon(posmatrac)\n",
        "moon.compute(posmatrac)\n",
        "\n",
        "phase = moon.moon_phase\n",
        "\n",
        "    # Determine the phase\n",
        "if phase < 0.03 or phase >= 6.27:\n",
        "    print(\"New Moon\")\n",
        "elif 0.03 <= phase < 1.57:\n",
        "    print(\"Waxing Crescent\")\n",
        "elif 1.57 <= phase < 3.14:\n",
        "    print(\"First Quarter\")\n",
        "elif 3.14 <= phase < 4.71:\n",
        "    print(\"Waxing Gibbous\")\n",
        "elif 4.71 <= phase < 5.99:\n",
        "    print(\"Full Moon\")\n",
        "elif 5.99 <= phase < 6.28:\n",
        "    print(\"Waning Gibbous\")\n",
        "elif -0.03 >= phase > -1.57:\n",
        "    print(\"Waning Crescent\")\n",
        "elif -1.57 >= phase > -3.14:\n",
        "    print(\"Last Quarter\")\n",
        "elif -3.14 >= phase > -4.71:\n",
        "    print(\"Waning Gibbous\")\n",
        "elif -4.71 >= phase > -5.99:\n",
        "    print(\"New Moon\")\n",
        "\n"
      ],
      "metadata": {
        "colab": {
          "base_uri": "https://localhost:8080/"
        },
        "id": "QF8qAMRQV6tC",
        "outputId": "d66f3bf9-67cf-4492-944d-804c2b6fa641"
      },
      "execution_count": 4,
      "outputs": [
        {
          "output_type": "stream",
          "name": "stdout",
          "text": [
            "Unesite datum u formi YYYY-MM-DD2024-05-15\n",
            "Waxing Crescent\n"
          ]
        }
      ]
    }
  ]
}