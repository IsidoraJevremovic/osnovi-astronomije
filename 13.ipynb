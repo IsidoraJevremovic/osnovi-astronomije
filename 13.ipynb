{
  "nbformat": 4,
  "nbformat_minor": 0,
  "metadata": {
    "colab": {
      "provenance": [],
      "authorship_tag": "ABX9TyPzfh+300sN0pv970LAAlTx",
      "include_colab_link": true
    },
    "kernelspec": {
      "name": "python3",
      "display_name": "Python 3"
    },
    "language_info": {
      "name": "python"
    }
  },
  "cells": [
    {
      "cell_type": "markdown",
      "metadata": {
        "id": "view-in-github",
        "colab_type": "text"
      },
      "source": [
        "<a href=\"https://colab.research.google.com/github/IsidoraJevremovic/osnovi-astronomije/blob/main/13.ipynb\" target=\"_parent\"><img src=\"https://colab.research.google.com/assets/colab-badge.svg\" alt=\"Open In Colab\"/></a>"
      ]
    },
    {
      "cell_type": "code",
      "execution_count": 3,
      "metadata": {
        "colab": {
          "base_uri": "https://localhost:8080/"
        },
        "id": "wAwnxuKYhFb9",
        "outputId": "105f5681-0e40-4112-e0f9-a70fc5197d08"
      },
      "outputs": [
        {
          "output_type": "execute_result",
          "data": {
            "text/plain": [
              "(5784.166916242387, 3.863444435125856e+26)"
            ]
          },
          "metadata": {},
          "execution_count": 3
        }
      ],
      "source": [
        "vinova_const = 2.897 * 10**-3\n",
        "sb_const = 5.67 * 10**-8\n",
        "radius = 6.96 * 10**8\n",
        "lambda_max = 500.85 * 10**-9\n",
        "\n",
        "temperatura = vinova_const / lambda_max\n",
        "\n",
        "luminoznost = 4 * 3.141592653589793 * radius_sun**2 * sb_const * temperatura**4\n",
        "\n",
        "temperatura, luminoznost\n"
      ]
    }
  ]
}