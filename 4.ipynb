{
  "nbformat": 4,
  "nbformat_minor": 0,
  "metadata": {
    "colab": {
      "provenance": [],
      "authorship_tag": "ABX9TyOcCXhR/owkhXVkPzrDz/YE",
      "include_colab_link": true
    },
    "kernelspec": {
      "name": "python3",
      "display_name": "Python 3"
    },
    "language_info": {
      "name": "python"
    }
  },
  "cells": [
    {
      "cell_type": "markdown",
      "metadata": {
        "id": "view-in-github",
        "colab_type": "text"
      },
      "source": [
        "<a href=\"https://colab.research.google.com/github/IsidoraJevremovic/osnovi-astronomije/blob/main/4.ipynb\" target=\"_parent\"><img src=\"https://colab.research.google.com/assets/colab-badge.svg\" alt=\"Open In Colab\"/></a>"
      ]
    },
    {
      "cell_type": "code",
      "execution_count": 1,
      "metadata": {
        "colab": {
          "base_uri": "https://localhost:8080/"
        },
        "id": "H27LVk7d71zB",
        "outputId": "abc08992-54ab-4614-af58-cec102d2029b"
      },
      "outputs": [
        {
          "output_type": "stream",
          "name": "stdout",
          "text": [
            "Collecting ephem\n",
            "  Downloading ephem-4.1.5-cp310-cp310-manylinux_2_17_x86_64.manylinux2014_x86_64.whl (1.8 MB)\n",
            "\u001b[2K     \u001b[90m━━━━━━━━━━━━━━━━━━━━━━━━━━━━━━━━━━━━━━━━\u001b[0m \u001b[32m1.8/1.8 MB\u001b[0m \u001b[31m8.4 MB/s\u001b[0m eta \u001b[36m0:00:00\u001b[0m\n",
            "\u001b[?25hInstalling collected packages: ephem\n",
            "Successfully installed ephem-4.1.5\n"
          ]
        }
      ],
      "source": [
        "pip install ephem"
      ]
    },
    {
      "cell_type": "code",
      "source": [
        "from ephem import *\n",
        "from pandas import *\n",
        "import matplotlib.pyplot as plt"
      ],
      "metadata": {
        "id": "xL3Pejx_77Sd"
      },
      "execution_count": 2,
      "outputs": []
    },
    {
      "cell_type": "code",
      "source": [
        "ime_zvezde = input(\"Unesite ime zvezde: \")\n",
        "sirina = float(input(\"Unesite geografsku sirinu posmatrača: \"))\n",
        "duzina = float(input(\"Unesite geografsku duzinu posmatrača: \"))\n",
        "\n",
        "posmatrac = Observer()\n",
        "posmatrac.lat = sirina\n",
        "posmatrac.lon = duzina\n",
        "\n",
        "zvezda = star(ime_zvezde)\n",
        "\n",
        "posmatrac.date = now()\n",
        "\n",
        "zvezda.compute(posmatrac)\n",
        "\n",
        "if zvezda.circumpolar:\n",
        "        print(f\"{ime_zvezde} je cirkumpolarna zvezda.\")\n",
        "elif zvezda.anticircumpolar:\n",
        "        print(f\"{ime_zvezde} je anticirkumpolarna zvezda.\")\n",
        "else:\n",
        "        print(f\"{ime_zvezde} izlazi i zalazi u toku dana.\")\n"
      ],
      "metadata": {
        "colab": {
          "base_uri": "https://localhost:8080/"
        },
        "id": "iGwSrx5j8A4s",
        "outputId": "b336a1fb-35ca-4650-e70b-28c6e1938f16"
      },
      "execution_count": 5,
      "outputs": [
        {
          "output_type": "stream",
          "name": "stdout",
          "text": [
            "Unesite ime zvezde: Polaris\n",
            "Unesite geografsku sirinu posmatrača: 44\n",
            "Unesite geografsku duzinu posmatrača: 33\n",
            "Polaris je cirkumpolarna zvezda.\n"
          ]
        }
      ]
    }
  ]
}