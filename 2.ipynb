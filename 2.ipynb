{
  "nbformat": 4,
  "nbformat_minor": 0,
  "metadata": {
    "colab": {
      "provenance": [],
      "authorship_tag": "ABX9TyMASF0Bjuhi6y4ZAxxXQVls",
      "include_colab_link": true
    },
    "kernelspec": {
      "name": "python3",
      "display_name": "Python 3"
    },
    "language_info": {
      "name": "python"
    }
  },
  "cells": [
    {
      "cell_type": "markdown",
      "metadata": {
        "id": "view-in-github",
        "colab_type": "text"
      },
      "source": [
        "<a href=\"https://colab.research.google.com/github/IsidoraJevremovic/osnovi-astronomije/blob/main/2.ipynb\" target=\"_parent\"><img src=\"https://colab.research.google.com/assets/colab-badge.svg\" alt=\"Open In Colab\"/></a>"
      ]
    },
    {
      "cell_type": "code",
      "execution_count": 1,
      "metadata": {
        "colab": {
          "base_uri": "https://localhost:8080/"
        },
        "id": "0BatIjiWNiSM",
        "outputId": "b627a770-62e5-4376-b091-07533127b24d"
      },
      "outputs": [
        {
          "output_type": "stream",
          "name": "stdout",
          "text": [
            "Collecting ephem\n",
            "  Downloading ephem-4.1.5-cp310-cp310-manylinux_2_17_x86_64.manylinux2014_x86_64.whl (1.8 MB)\n",
            "\u001b[2K     \u001b[90m━━━━━━━━━━━━━━━━━━━━━━━━━━━━━━━━━━━━━━━━\u001b[0m \u001b[32m1.8/1.8 MB\u001b[0m \u001b[31m7.3 MB/s\u001b[0m eta \u001b[36m0:00:00\u001b[0m\n",
            "\u001b[?25hInstalling collected packages: ephem\n",
            "Successfully installed ephem-4.1.5\n"
          ]
        }
      ],
      "source": [
        "pip install ephem"
      ]
    },
    {
      "cell_type": "code",
      "source": [
        "from ephem import *\n",
        "from pandas import *\n",
        "import matplotlib.pyplot as plt"
      ],
      "metadata": {
        "id": "Qy4mZ8kbNlEk"
      },
      "execution_count": 2,
      "outputs": []
    },
    {
      "cell_type": "code",
      "source": [
        "posmatrac = Observer()\n",
        "posmatrac.lat = '44.7866'\n",
        "posmatrac.lon = '20.4489'\n",
        "\n",
        "posmatrac.date = '2024/05/05 12:00:00'\n",
        "\n",
        "merkur = Mercury()\n",
        "\n",
        "merkur.compute(posmatrac)\n",
        "\n",
        "ekvatorske = (merkur.ra, merkur.dec)\n",
        "\n",
        "horizonteske = (merkur.az, merkur.alt)\n",
        "\n",
        "eklipticke = (Ecliptic(merkur).lon, Ecliptic(merkur).lat)\n",
        "\n",
        "\n",
        "sazvezdje = constellation(merkur)\n",
        "\n",
        "rastojanje_od_zemlje = merkur.earth_distance\n",
        "\n",
        "velicina = merkur.size\n",
        "magnituda = merkur.mag\n",
        "\n",
        "print(\"Ekvatorijalne koordinate tela:\", ekvatorske)\n",
        "print(\"Horizontske koordinate tela:\", horizonteske)\n",
        "print(\"Eklptičke koordinate tela:\", eklipticke)\n",
        "print(\"Sazvežđe u kojem se nalazi:\", sazvezdje)\n",
        "print(\"Rastojanje tela od Zemlje:\", rastojanje_od_zemlje)\n",
        "print(\"Veličina tela (u radijanima):\", velicina)\n",
        "print(\"Magnituda tela:\", magnituda)\n"
      ],
      "metadata": {
        "colab": {
          "base_uri": "https://localhost:8080/"
        },
        "id": "kPVgcyKINl6B",
        "outputId": "3c7653b5-db62-49c2-c375-837cca1dbc1f"
      },
      "execution_count": 7,
      "outputs": [
        {
          "output_type": "stream",
          "name": "stdout",
          "text": [
            "Ekvatorijalne koordinate tela: (0.33800250880243743, 0.08852636162414927)\n",
            "Horizontske koordinate tela: (4.159614086151123, 0.5981296300888062)\n",
            "Eklptičke koordinate tela: (0.33969543124010304, -0.050291390890411306)\n",
            "Sazvežđe u kojem se nalazi: ('Psc', 'Pisces')\n",
            "Rastojanje tela od Zemlje: 0.7609142661094666\n",
            "Veličina tela (u radijanima): 8.857765197753906\n",
            "Magnituda tela: 0.77\n"
          ]
        }
      ]
    },
    {
      "cell_type": "code",
      "source": [
        "posmatrac.date += 5 * ephem.hour\n",
        "\n",
        "merkur.compute(posmatrac)\n",
        "\n",
        "print(\"Novi ekvatorijalne koordinate tela:\", (merkur.ra, merkur.dec))\n",
        "print(\"Novi horizontske koordinate tela:\", (merkur.az, merkur.alt))\n"
      ],
      "metadata": {
        "colab": {
          "base_uri": "https://localhost:8080/"
        },
        "id": "fPN0CV5BQRJx",
        "outputId": "5417be5c-91a1-4243-a51c-a31f52e8c78d"
      },
      "execution_count": 8,
      "outputs": [
        {
          "output_type": "stream",
          "name": "stdout",
          "text": [
            "Novi ekvatorijalne koordinate tela: (0.34059259579103135, 0.08922631490335708)\n",
            "Novi horizontske koordinate tela: (5.159801006317139, -0.29482513666152954)\n"
          ]
        }
      ]
    }
  ]
}