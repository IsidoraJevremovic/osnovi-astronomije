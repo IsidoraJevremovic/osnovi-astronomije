{
  "nbformat": 4,
  "nbformat_minor": 0,
  "metadata": {
    "colab": {
      "provenance": [],
      "authorship_tag": "ABX9TyOxhFUL6cNFBc7kZwFDU5st",
      "include_colab_link": true
    },
    "kernelspec": {
      "name": "python3",
      "display_name": "Python 3"
    },
    "language_info": {
      "name": "python"
    }
  },
  "cells": [
    {
      "cell_type": "markdown",
      "metadata": {
        "id": "view-in-github",
        "colab_type": "text"
      },
      "source": [
        "<a href=\"https://colab.research.google.com/github/IsidoraJevremovic/osnovi-astronomije/blob/main/1.ipynb\" target=\"_parent\"><img src=\"https://colab.research.google.com/assets/colab-badge.svg\" alt=\"Open In Colab\"/></a>"
      ]
    },
    {
      "cell_type": "code",
      "execution_count": null,
      "metadata": {
        "id": "B2z3h3QCUsv6"
      },
      "outputs": [],
      "source": [
        "import numpy as np\n",
        "import matplotlib.pyplot as plt\n",
        "import astropy as ap\n"
      ]
    },
    {
      "cell_type": "code",
      "source": [
        "print(\"Unesite geografsku sirinu: \")\n",
        "sirina = float(input())\n",
        "while sirina < -90 or sirina > 90:\n",
        "  print(\"Nedozvoljena sirina\")\n",
        "  sirina = float(input())\n",
        "\n",
        "print(\"Unesite deklinaciju: \")\n",
        "deklinacija = float(input())\n",
        "while deklinacija < -90 or deklinacija > 90:\n",
        "  print(\"Nedozvoljena deklinacija\")\n",
        "  deklinacija = float(input())\n",
        "if sirina > 0:\n",
        "  if 90 - sirina <= deklinacija and deklinacija <= 90:\n",
        "    print(\"Zvezda je cirkumpolarna!!!\")\n",
        "  elif -90 <= deklinacija and deklinacija <= -90 + sirina:\n",
        "    print(\"Zvezda je anticirkumpolarnaaaaa\")\n",
        "  else:\n",
        "    print(\"Zvezda izlazeca zalazeca...\")\n",
        "elif sirina < 0:\n",
        "  if 90+sirina <= deklinacija and deklinacija <= 90:\n",
        "    print(\"Zvezda je anticirkumpolarnaaaaa\")\n",
        "  elif -90 <= deklinacija and deklinacija <= -90-sirina:\n",
        "    print(\"Zvezda je cirkumpolarna!!!\")\n",
        "  else:\n",
        "    print(\"Zvezda izlazeca zalazeca...\")\n",
        "else:\n",
        "    print(\"Nalazimo se na ekvatoru! Sve zvezde izlaze iiii zalazeee\")"
      ],
      "metadata": {
        "colab": {
          "base_uri": "https://localhost:8080/"
        },
        "id": "rn4fd8v2WQt0",
        "outputId": "86f50b21-959a-4cff-a070-362c0e71e7bf"
      },
      "execution_count": null,
      "outputs": [
        {
          "output_type": "stream",
          "name": "stdout",
          "text": [
            "Unesite geografsku sirinu: \n",
            "90\n",
            "Unesite deklinaciju: \n",
            "-90\n",
            "Zvezda je anticirkumpolarnaaaaa\n"
          ]
        }
      ]
    }
