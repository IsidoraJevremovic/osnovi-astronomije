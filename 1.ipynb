{
  "nbformat": 4,
  "nbformat_minor": 0,
  "metadata": {
    "colab": {
      "provenance": [],
      "authorship_tag": "ABX9TyNkB+c1VRS/6K1WvOX1o+xd",
      "include_colab_link": true
    },
    "kernelspec": {
      "name": "python3",
      "display_name": "Python 3"
    },
    "language_info": {
      "name": "python"
    }
  },
  "cells": [
    {
      "cell_type": "markdown",
      "metadata": {
        "id": "view-in-github",
        "colab_type": "text"
      },
      "source": [
        "<a href=\"https://colab.research.google.com/github/IsidoraJevremovic/osnovi-astronomije/blob/main/1.ipynb\" target=\"_parent\"><img src=\"https://colab.research.google.com/assets/colab-badge.svg\" alt=\"Open In Colab\"/></a>"
      ]
    },
    {
      "cell_type": "code",
      "execution_count": 1,
      "metadata": {
        "colab": {
          "base_uri": "https://localhost:8080/"
        },
        "id": "5x_JLeLqGUIX",
        "outputId": "7d08872b-0fc5-4c83-feeb-e1938f70d13e"
      },
      "outputs": [
        {
          "output_type": "stream",
          "name": "stdout",
          "text": [
            "Collecting ephem\n",
            "  Downloading ephem-4.1.5-cp310-cp310-manylinux_2_17_x86_64.manylinux2014_x86_64.whl (1.8 MB)\n",
            "\u001b[2K     \u001b[90m━━━━━━━━━━━━━━━━━━━━━━━━━━━━━━━━━━━━━━━━\u001b[0m \u001b[32m1.8/1.8 MB\u001b[0m \u001b[31m8.2 MB/s\u001b[0m eta \u001b[36m0:00:00\u001b[0m\n",
            "\u001b[?25hInstalling collected packages: ephem\n",
            "Successfully installed ephem-4.1.5\n"
          ]
        }
      ],
      "source": [
        "pip install ephem"
      ]
    },
    {
      "cell_type": "code",
      "source": [
        "import numpy as np\n",
        "import matplotlib.pyplot as plt\n",
        "import astropy as ap"
      ],
      "metadata": {
        "id": "I5GNESiyGm7V"
      },
      "execution_count": 2,
      "outputs": []
    },
    {
      "cell_type": "code",
      "source": [
        "print(\"Unesite geografsku sirinu: \")\n",
        "sirina = float(input())\n",
        "while sirina < -90 or sirina > 90:\n",
        "  print(\"Nedozvoljena sirina\")\n",
        "  sirina = float(input())\n",
        "\n",
        "print(\"Unesite deklinaciju: \")\n",
        "deklinacija = float(input())\n",
        "while deklinacija < -90 or deklinacija > 90:\n",
        "  print(\"Nedozvoljena deklinacija\")\n",
        "  deklinacija = float(input())\n",
        "if sirina > 0:\n",
        "  if 90 - sirina <= deklinacija and deklinacija <= 90:\n",
        "    print(\"Zvezda je cirkumpolarna!!!\")\n",
        "  elif -90 <= deklinacija and deklinacija <= -90 + sirina:\n",
        "    print(\"Zvezda je anticirkumpolarnaaaaa\")\n",
        "  else:\n",
        "    print(\"Zvezda izlazeca zalazeca...\")\n",
        "elif sirina < 0:\n",
        "  if 90+sirina <= deklinacija and deklinacija <= 90:\n",
        "    print(\"Zvezda je anticirkumpolarnaaaaa\")\n",
        "  elif -90 <= deklinacija and deklinacija <= -90-sirina:\n",
        "    print(\"Zvezda je cirkumpolarna!!!\")\n",
        "  else:\n",
        "    print(\"Zvezda izlazeca zalazeca...\")\n",
        "else:\n",
        "    print(\"Nalazimo se na ekvatoru! Sve zvezde izlaze iiii zalazeee\")\n",
        "\n"
      ],
      "metadata": {
        "colab": {
          "base_uri": "https://localhost:8080/"
        },
        "id": "exBc4aSJGiiH",
        "outputId": "974d8329-2f29-4cb2-b7a9-333e1473c8ea"
      },
      "execution_count": 3,
      "outputs": [
        {
          "output_type": "stream",
          "name": "stdout",
          "text": [
            "Unesite geografsku sirinu: \n",
            "20\n",
            "Unesite deklinaciju: \n",
            "12\n",
            "Zvezda izlazeca zalazeca...\n"
          ]
        }
      ]
    }
  ]
}