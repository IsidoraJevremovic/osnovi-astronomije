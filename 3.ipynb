{
  "nbformat": 4,
  "nbformat_minor": 0,
  "metadata": {
    "colab": {
      "provenance": [],
      "authorship_tag": "ABX9TyO6co1Xt4v/1g+IoDEAs99F",
      "include_colab_link": true
    },
    "kernelspec": {
      "name": "python3",
      "display_name": "Python 3"
    },
    "language_info": {
      "name": "python"
    }
  },
  "cells": [
    {
      "cell_type": "markdown",
      "metadata": {
        "id": "view-in-github",
        "colab_type": "text"
      },
      "source": [
        "<a href=\"https://colab.research.google.com/github/IsidoraJevremovic/osnovi-astronomije/blob/main/3.ipynb\" target=\"_parent\"><img src=\"https://colab.research.google.com/assets/colab-badge.svg\" alt=\"Open In Colab\"/></a>"
      ]
    },
    {
      "cell_type": "code",
      "execution_count": 1,
      "metadata": {
        "colab": {
          "base_uri": "https://localhost:8080/"
        },
        "id": "ejYfZxBXSHpE",
        "outputId": "2b92bb51-b8e3-4aba-a5d8-1deea54f6f25"
      },
      "outputs": [
        {
          "output_type": "stream",
          "name": "stdout",
          "text": [
            "Collecting ephem\n",
            "  Downloading ephem-4.1.5-cp310-cp310-manylinux_2_17_x86_64.manylinux2014_x86_64.whl (1.8 MB)\n",
            "\u001b[2K     \u001b[90m━━━━━━━━━━━━━━━━━━━━━━━━━━━━━━━━━━━━━━━━\u001b[0m \u001b[32m1.8/1.8 MB\u001b[0m \u001b[31m9.7 MB/s\u001b[0m eta \u001b[36m0:00:00\u001b[0m\n",
            "\u001b[?25hInstalling collected packages: ephem\n",
            "Successfully installed ephem-4.1.5\n"
          ]
        }
      ],
      "source": [
        "pip install ephem"
      ]
    },
    {
      "cell_type": "code",
      "source": [
        "from ephem import *\n",
        "from pandas import *\n",
        "import matplotlib.pyplot as plt"
      ],
      "metadata": {
        "id": "kppDjG5lSMpl"
      },
      "execution_count": 3,
      "outputs": []
    },
    {
      "cell_type": "code",
      "source": [
        "posmatrac = Observer()\n",
        "posmatrac.lat = '44.7866'\n",
        "posmatrac.lon = '20.4489'\n",
        "\n",
        "posmatrac.date = '2024/05/05 12:00:00'\n",
        "\n",
        "zvezda = readdb(\"Sirius,f|S|A0,6.75247697|-546.01,-16.71611569|-1223.08,-1.44\")\n",
        "\n",
        "zvezda.compute(posmatrac)\n",
        "\n",
        "ekvatroske = (zvezda.ra, zvezda.dec)\n",
        "\n",
        "horizontske = (zvezda.az, zvezda.alt)\n",
        "\n",
        "eklipticke = (Ecliptic(zvezda).lon, Ecliptic(zvezda).lat)\n",
        "\n",
        "sazvezdje = \"Canis Major\"\n",
        "\n",
        "magnituda = zvezda.mag\n",
        "\n",
        "\n",
        "print(\"Ekvatorijalne koordinate zvezde:\", ekvatroske)\n",
        "print(\"Horizontske koordinate zvezde:\", horizontske)\n",
        "print(\"Eklptičke koordinate zvezde:\", eklipticke)\n",
        "print(\"Sazvežđe u kojem se nalazi:\", sazvezdje)\n",
        "print(\"Magnituda zvezde:\", magnituda)\n"
      ],
      "metadata": {
        "colab": {
          "base_uri": "https://localhost:8080/"
        },
        "id": "n7g8aVoPSMvP",
        "outputId": "f23a76eb-1ef0-403c-e8b2-e4f96678478b"
      },
      "execution_count": 16,
      "outputs": [
        {
          "output_type": "stream",
          "name": "stdout",
          "text": [
            "Ekvatorijalne koordinate zvezde: (1.7723934947919153, -0.2923690761649496)\n",
            "Horizontske koordinate zvezde: (2.478116512298584, 0.3454756438732147)\n",
            "Eklptičke koordinate zvezde: (1.8165034562706195, -0.6913920599715053)\n",
            "Sazvežđe u kojem se nalazi: Canis Major\n",
            "Magnituda zvezde: -1.44\n"
          ]
        }
      ]
    },
    {
      "cell_type": "code",
      "source": [
        "posmatrac.date += 5 * hour\n",
        "\n",
        "zvezda.compute(posmatrac)\n",
        "\n",
        "ekvatroske2 = (zvezda.ra, zvezda.dec)\n",
        "\n",
        "horizontske2 = (zvezda.az, zvezda.alt)\n",
        "\n",
        "eklipticke2 = (Ecliptic(zvezda).lon, Ecliptic(zvezda).lat)\n",
        "\n",
        "magnituda2 = zvezda.mag\n",
        "\n",
        "\n",
        "print(\"Koordinate zvezde za novo vreme (+5 sati):\")\n",
        "print(\"Ekvatorijalne koordinate zvezde:\", ekvatroske2)\n",
        "print(\"Horizontske koordinate zvezde:\", horizontske2)\n",
        "print(\"Eklptičke koordinate zvezde:\", eklipticke2)\n",
        "print(\"Magnituda zvezde:\", magnituda2)"
      ],
      "metadata": {
        "colab": {
          "base_uri": "https://localhost:8080/"
        },
        "id": "PSDJ4vVMWK3F",
        "outputId": "589d0b4c-2eda-4073-8c87-db0bfa8cf729"
      },
      "execution_count": 17,
      "outputs": [
        {
          "output_type": "stream",
          "name": "stdout",
          "text": [
            "Koordinate zvezde za novo vreme (+5 sati):\n",
            "Ekvatorijalne koordinate zvezde: (1.772393214685334, -0.29236897679099016)\n",
            "Horizontske koordinate zvezde: (3.8161258697509766, 0.340097039937973)\n",
            "Eklptičke koordinate zvezde: (1.8165034547647128, -0.6913920634880076)\n",
            "Magnituda zvezde: -1.44\n"
          ]
        }
      ]
    }
  ]
}